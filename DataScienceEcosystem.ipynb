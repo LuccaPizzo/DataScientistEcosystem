{
 "cells": [
  {
   "cell_type": "markdown",
   "id": "4073d071",
   "metadata": {},
   "source": [
    "# Data Science Tools and Ecosystem"
   ]
  },
  {
   "cell_type": "markdown",
   "id": "fa9d111c",
   "metadata": {},
   "source": [
    "In this notebook, Data Science Tools and Ecosystem are sumarized."
   ]
  },
  {
   "cell_type": "markdown",
   "id": "5b28aa01",
   "metadata": {},
   "source": [
    "**Objectives:**\n",
    "\n",
    "- Introduction to Python\n",
    "- Introduction to SQL\n",
    "- List popular language for Data Scientist\n",
    "- List popular libraries used in Python\n",
    "- Introduction to GitHub"
   ]
  },
  {
   "cell_type": "markdown",
   "id": "6788c33a",
   "metadata": {},
   "source": [
    "Some of the popular languages that Data Scientists use are:\n",
    "1. Python\n",
    "2. R Language\n",
    "3. SQL"
   ]
  },
  {
   "cell_type": "markdown",
   "id": "f7ea0fbd",
   "metadata": {},
   "source": [
    "Some of the commonly used libraries used by Data Scientists include:\n",
    "\n",
    "1. Scientific Computing (Pandas, NumPy)\n",
    "2. Visualization (Matplotlib, Seaborn)\n",
    "3. High Level Machine Learning and Deep Learning (Scikit-Learning, Keras, Tensor Flow, PyTorch)"
   ]
  },
  {
   "cell_type": "markdown",
   "id": "8355762f",
   "metadata": {},
   "source": [
    "|Data Sicence Tools|\n",
    "|------------------|\n",
    "|R Studio|\n",
    "|Apache Zeppelin|\n",
    "|Jupyter Lab|"
   ]
  },
  {
   "attachments": {},
   "cell_type": "markdown",
   "id": "4a78ba6a",
   "metadata": {},
   "source": [
    "### Below are a few examples of evaluating arithmetic expressions in Python"
   ]
  },
  {
   "cell_type": "code",
   "execution_count": 3,
   "id": "7d37b328",
   "metadata": {},
   "outputs": [
    {
     "data": {
      "text/plain": [
       "17"
      ]
     },
     "execution_count": 3,
     "metadata": {},
     "output_type": "execute_result"
    }
   ],
   "source": [
    "# This is a simple arithmetic expression to multiply then add integers\n",
    "\n",
    "(3*4)+5"
   ]
  },
  {
   "cell_type": "code",
   "execution_count": 17,
   "id": "e99dc297",
   "metadata": {},
   "outputs": [
    {
     "name": "stdout",
     "output_type": "stream",
     "text": [
      "3 hours and 20 minutes\n"
     ]
    }
   ],
   "source": [
    "# This will convert 200 minutes to hours by dving by 60\n",
    "\n",
    "print((200//60),\"hours and\",(200 % 60),\"minutes\")  "
   ]
  },
  {
   "cell_type": "markdown",
   "id": "4acf42c8",
   "metadata": {},
   "source": [
    "## Author\n",
    "Lucca Pizzo Mathias"
   ]
  }
 ],
 "metadata": {
  "kernelspec": {
   "display_name": "Python 3 (ipykernel)",
   "language": "python",
   "name": "python3"
  },
  "language_info": {
   "codemirror_mode": {
    "name": "ipython",
    "version": 3
   },
   "file_extension": ".py",
   "mimetype": "text/x-python",
   "name": "python",
   "nbconvert_exporter": "python",
   "pygments_lexer": "ipython3",
   "version": "3.11.5"
  }
 },
 "nbformat": 4,
 "nbformat_minor": 5
}
